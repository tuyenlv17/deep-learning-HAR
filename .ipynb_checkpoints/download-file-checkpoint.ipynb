{
 "cells": [
  {
   "cell_type": "code",
   "execution_count": null,
   "metadata": {},
   "outputs": [],
   "source": [
    "import urllib\n",
    "import os\n",
    "url = \"http://developer2.download.nvidia.com/compute/cuda/9.1/secure/Prod/local_installers/cuda_9.1.85_387.26_linux.run?c3KDBitkgq4CxG8VQ2x0b1KpHYee8thVqFGhIFbp7Ejssrm_HqQXcONaSDI9i8ZWsDtm6HlDwuoOpwqUWD3u7BEarH6aqNqt1f6QxcCNXYBBvyuL816tTs1t2O8QxyZ5vH598ZsPgiUEtGVrt0Z1gkJsSiTqWiJZmIaVODjwMbW6l0zw0aXXBBE\"\n",
    "filename = \"cuda/cuda_9.1.85_387.26_linux.run\"\n",
    "urllib.urlretrieve (url, filename)"
   ]
  }
 ],
 "metadata": {
  "kernelspec": {
   "display_name": "Python 2",
   "language": "python",
   "name": "python2"
  },
  "language_info": {
   "codemirror_mode": {
    "name": "ipython",
    "version": 2
   },
   "file_extension": ".py",
   "mimetype": "text/x-python",
   "name": "python",
   "nbconvert_exporter": "python",
   "pygments_lexer": "ipython2",
   "version": "2.7.12"
  }
 },
 "nbformat": 4,
 "nbformat_minor": 2
}
