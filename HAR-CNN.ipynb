{
 "cells": [
  {
   "cell_type": "markdown",
   "metadata": {},
   "source": [
    "# HAR CNN training "
   ]
  },
  {
   "cell_type": "code",
   "execution_count": 377,
   "metadata": {},
   "outputs": [],
   "source": [
    "# Imports\n",
    "import numpy as np\n",
    "import os\n",
    "from sklearn.model_selection import train_test_split\n",
    "from sklearn.metrics import precision_recall_fscore_support\n",
    "from sklearn.metrics import precision_score, \\\n",
    "    recall_score, confusion_matrix, classification_report, \\\n",
    "    accuracy_score, f1_score\n",
    "import matplotlib.pyplot as plt\n",
    "%matplotlib inline"
   ]
  },
  {
   "cell_type": "code",
   "execution_count": 378,
   "metadata": {},
   "outputs": [],
   "source": [
    "%run utils/utilities.py"
   ]
  },
  {
   "cell_type": "code",
   "execution_count": 379,
   "metadata": {},
   "outputs": [],
   "source": [
    "class_label_vn = [u\"Cổ tay\",u\"Cổ chân\",u\"Bả vai\",u\"Xoay người\",u\"Xoay đầu gối\",u\"Đi bộ\",u\"Chạy\",u\"Đạp xe\",u\"Đánh răng\",u\"Rửa tay\",u\"Lau bàn\",u\"Nạo\",u\"Thái\",u\"Trộn\",u\"Lên cầu thang\",u\"Xuống cầu thang\"]"
   ]
  },
  {
   "cell_type": "markdown",
   "metadata": {},
   "source": [
    "## Prepare data"
   ]
  },
  {
   "cell_type": "code",
   "execution_count": 380,
   "metadata": {
    "scrolled": true
   },
   "outputs": [
    {
     "name": "stdout",
     "output_type": "stream",
     "text": [
      "x_sensor_acc\n",
      "x_watch_acc\n",
      "x_watch_gyr\n",
      "y_sensor_acc\n",
      "y_watch_acc\n",
      "y_watch_gyr\n",
      "z_sensor_acc\n",
      "z_watch_acc\n",
      "z_watch_gyr\n",
      "x_sensor_acc\n",
      "x_watch_acc\n",
      "x_watch_gyr\n",
      "y_sensor_acc\n",
      "y_watch_acc\n",
      "y_watch_gyr\n",
      "z_sensor_acc\n",
      "z_watch_acc\n",
      "z_watch_gyr\n"
     ]
    }
   ],
   "source": [
    "rootDatasetDir = \"./datasets/PTIT/normalized\"\n",
    "X_train, labels_train, list_ch_train = read_data(data_path=\"./datasets/PTIT/normalized\", split=\"train\") # train\n",
    "X_test, labels_test, list_ch_test = read_data(data_path=rootDatasetDir, split=\"test\") # test\n",
    "assert list_ch_train == list_ch_test, \"Mistmatch in channels!\""
   ]
  },
  {
   "cell_type": "code",
   "execution_count": 381,
   "metadata": {},
   "outputs": [],
   "source": [
    "# Normalize?\n",
    "X_train, X_test = standardize(X_train, X_test)"
   ]
  },
  {
   "cell_type": "markdown",
   "metadata": {},
   "source": [
    "Train/Validation Split"
   ]
  },
  {
   "cell_type": "code",
   "execution_count": 382,
   "metadata": {},
   "outputs": [],
   "source": [
    "X_tr, X_vld, lab_tr, lab_vld = train_test_split(X_train, labels_train, \n",
    "                                                stratify = labels_train, random_state = 123)"
   ]
  },
  {
   "cell_type": "markdown",
   "metadata": {},
   "source": [
    "One-hot encoding:"
   ]
  },
  {
   "cell_type": "code",
   "execution_count": 383,
   "metadata": {},
   "outputs": [],
   "source": [
    "y_tr = one_hot(lab_tr)\n",
    "y_vld = one_hot(lab_vld)\n",
    "y_test = one_hot(labels_test)"
   ]
  },
  {
   "cell_type": "code",
   "execution_count": 384,
   "metadata": {},
   "outputs": [],
   "source": [
    "# Imports\n",
    "import tensorflow as tf"
   ]
  },
  {
   "cell_type": "markdown",
   "metadata": {},
   "source": [
    "### Hyperparameters"
   ]
  },
  {
   "cell_type": "code",
   "execution_count": 385,
   "metadata": {},
   "outputs": [
    {
     "name": "stdout",
     "output_type": "stream",
     "text": [
      "n_channels 9\n"
     ]
    }
   ],
   "source": [
    "batch_size = 600       # Batch size\n",
    "seq_len = WINDOWN_SIZE          # Number of steps or window size\n",
    "learning_rate = 0.0001\n",
    "epochs = 2000\n",
    "\n",
    "n_classes = NUM_CLASS\n",
    "n_channels = NUM_CHANNEL\n",
    "print \"n_channels %d\" % n_channels"
   ]
  },
  {
   "cell_type": "markdown",
   "metadata": {},
   "source": [
    "### Construct the graph\n",
    "Placeholders"
   ]
  },
  {
   "cell_type": "code",
   "execution_count": 386,
   "metadata": {},
   "outputs": [],
   "source": [
    "graph = tf.Graph()\n",
    "\n",
    "# Construct placeholders\n",
    "with graph.as_default():\n",
    "    inputs_ = tf.placeholder(tf.float32, [None, seq_len, n_channels], name = 'inputs')\n",
    "    labels_ = tf.placeholder(tf.float32, [None, n_classes], name = 'labels')\n",
    "    keep_prob_ = tf.placeholder(tf.float32, name = 'keep')\n",
    "    learning_rate_ = tf.placeholder(tf.float32, name = 'learning_rate')"
   ]
  },
  {
   "cell_type": "markdown",
   "metadata": {},
   "source": [
    "Build Convolutional Layers"
   ]
  },
  {
   "cell_type": "code",
   "execution_count": 387,
   "metadata": {},
   "outputs": [],
   "source": [
    "with graph.as_default():\n",
    "    # (batch, 128, 9) --> (batch, 64, 18)\n",
    "    conv1 = tf.layers.conv1d(inputs=inputs_, filters=18, kernel_size=2, strides=1, \n",
    "                             padding='same', activation = tf.nn.relu)\n",
    "    max_pool_1 = tf.layers.max_pooling1d(inputs=conv1, pool_size=2, strides=2, padding='same')\n",
    "    \n",
    "    # (batch, 64, 18) --> (batch, 32, 36)\n",
    "    conv2 = tf.layers.conv1d(inputs=max_pool_1, filters=36, kernel_size=2, strides=1, \n",
    "                             padding='same', activation = tf.nn.relu)\n",
    "    max_pool_2 = tf.layers.max_pooling1d(inputs=conv2, pool_size=2, strides=2, padding='same')\n",
    "    \n",
    "    # (batch, 32, 36) --> (batch, 16, 72)\n",
    "    conv3 = tf.layers.conv1d(inputs=max_pool_2, filters=72, kernel_size=2, strides=1, \n",
    "                             padding='same', activation = tf.nn.relu)\n",
    "    max_pool_3 = tf.layers.max_pooling1d(inputs=conv3, pool_size=2, strides=2, padding='same')\n",
    "    \n",
    "    # (batch, 16, 72) --> (batch, 8, 144)\n",
    "    conv4 = tf.layers.conv1d(inputs=max_pool_3, filters=144, kernel_size=2, strides=1, \n",
    "                             padding='same', activation = tf.nn.relu)\n",
    "    max_pool_4 = tf.layers.max_pooling1d(inputs=conv4, pool_size=2, strides=2, padding='same')"
   ]
  },
  {
   "cell_type": "markdown",
   "metadata": {},
   "source": [
    "Now, flatten and pass to the classifier"
   ]
  },
  {
   "cell_type": "code",
   "execution_count": 388,
   "metadata": {},
   "outputs": [],
   "source": [
    "with graph.as_default():\n",
    "    # Flatten and add dropout\n",
    "    flat = tf.reshape(max_pool_4, (-1, 8*144))\n",
    "    flat = tf.nn.dropout(flat, keep_prob=keep_prob_)\n",
    "    \n",
    "    # Predictions\n",
    "    logits = tf.layers.dense(flat, n_classes)\n",
    "    \n",
    "    # Cost function and optimizer\n",
    "    cost = tf.reduce_mean(tf.nn.softmax_cross_entropy_with_logits(logits=logits, labels=labels_))\n",
    "    optimizer = tf.train.AdamOptimizer(learning_rate_).minimize(cost)\n",
    "    \n",
    "    # Accuracy\n",
    "    correct_pred = tf.equal(tf.argmax(logits, 1), tf.argmax(labels_, 1))\n",
    "    accuracy = tf.reduce_mean(tf.cast(correct_pred, tf.float32), name='accuracy')"
   ]
  },
  {
   "cell_type": "markdown",
   "metadata": {},
   "source": [
    "### Train the network"
   ]
  },
  {
   "cell_type": "code",
   "execution_count": null,
   "metadata": {},
   "outputs": [],
   "source": [
    "if (os.path.exists('checkpoints-cnn') == False):\n",
    "    !mkdir checkpoints-cnn"
   ]
  },
  {
   "cell_type": "code",
   "execution_count": null,
   "metadata": {},
   "outputs": [
    {
     "name": "stdout",
     "output_type": "stream",
     "text": [
      "('Epoch: 0/2000', 'Iteration: 5', 'Train loss: 2.858363', 'Train acc: 0.071667')\n",
      "('Epoch: 1/2000', 'Iteration: 10', 'Train loss: 2.820016', 'Train acc: 0.068333')\n",
      "('Epoch: 1/2000', 'Iteration: 10', 'Validation loss: 2.760466', 'Validation acc: 0.071667')\n",
      "('Epoch: 2/2000', 'Iteration: 15', 'Train loss: 2.767467', 'Train acc: 0.076667')\n",
      "('Epoch: 3/2000', 'Iteration: 20', 'Train loss: 2.712113', 'Train acc: 0.098333')\n",
      "('Epoch: 3/2000', 'Iteration: 20', 'Validation loss: 2.689046', 'Validation acc: 0.098333')\n",
      "('Epoch: 4/2000', 'Iteration: 25', 'Train loss: 2.713872', 'Train acc: 0.100000')\n",
      "('Epoch: 5/2000', 'Iteration: 30', 'Train loss: 2.670680', 'Train acc: 0.101667')\n",
      "('Epoch: 5/2000', 'Iteration: 30', 'Validation loss: 2.642451', 'Validation acc: 0.095000')\n",
      "('Epoch: 6/2000', 'Iteration: 35', 'Train loss: 2.668613', 'Train acc: 0.106667')\n",
      "('Epoch: 7/2000', 'Iteration: 40', 'Train loss: 2.640273', 'Train acc: 0.111667')\n",
      "('Epoch: 7/2000', 'Iteration: 40', 'Validation loss: 2.610223', 'Validation acc: 0.095000')\n",
      "('Epoch: 8/2000', 'Iteration: 45', 'Train loss: 2.610568', 'Train acc: 0.113333')\n",
      "('Epoch: 9/2000', 'Iteration: 50', 'Train loss: 2.623593', 'Train acc: 0.111667')\n",
      "('Epoch: 9/2000', 'Iteration: 50', 'Validation loss: 2.583467', 'Validation acc: 0.105000')\n",
      "('Epoch: 10/2000', 'Iteration: 55', 'Train loss: 2.589733', 'Train acc: 0.118333')\n",
      "('Epoch: 11/2000', 'Iteration: 60', 'Train loss: 2.580440', 'Train acc: 0.126667')\n",
      "('Epoch: 11/2000', 'Iteration: 60', 'Validation loss: 2.557479', 'Validation acc: 0.118333')\n",
      "('Epoch: 12/2000', 'Iteration: 65', 'Train loss: 2.564332', 'Train acc: 0.151667')\n",
      "('Epoch: 13/2000', 'Iteration: 70', 'Train loss: 2.562181', 'Train acc: 0.161667')\n",
      "('Epoch: 13/2000', 'Iteration: 70', 'Validation loss: 2.530174', 'Validation acc: 0.153333')\n",
      "('Epoch: 14/2000', 'Iteration: 75', 'Train loss: 2.518806', 'Train acc: 0.171667')\n",
      "('Epoch: 15/2000', 'Iteration: 80', 'Train loss: 2.517138', 'Train acc: 0.173333')\n",
      "('Epoch: 15/2000', 'Iteration: 80', 'Validation loss: 2.500309', 'Validation acc: 0.190000')\n",
      "('Epoch: 16/2000', 'Iteration: 85', 'Train loss: 2.485800', 'Train acc: 0.215000')\n",
      "('Epoch: 17/2000', 'Iteration: 90', 'Train loss: 2.487088', 'Train acc: 0.198333')\n",
      "('Epoch: 17/2000', 'Iteration: 90', 'Validation loss: 2.467384', 'Validation acc: 0.225000')\n",
      "('Epoch: 18/2000', 'Iteration: 95', 'Train loss: 2.450408', 'Train acc: 0.226667')\n",
      "('Epoch: 19/2000', 'Iteration: 100', 'Train loss: 2.453974', 'Train acc: 0.223333')\n",
      "('Epoch: 19/2000', 'Iteration: 100', 'Validation loss: 2.431080', 'Validation acc: 0.253333')\n",
      "('Epoch: 20/2000', 'Iteration: 105', 'Train loss: 2.407133', 'Train acc: 0.235000')\n",
      "('Epoch: 21/2000', 'Iteration: 110', 'Train loss: 2.375324', 'Train acc: 0.276667')\n",
      "('Epoch: 21/2000', 'Iteration: 110', 'Validation loss: 2.391289', 'Validation acc: 0.265000')\n",
      "('Epoch: 22/2000', 'Iteration: 115', 'Train loss: 2.371279', 'Train acc: 0.240000')\n",
      "('Epoch: 23/2000', 'Iteration: 120', 'Train loss: 2.340541', 'Train acc: 0.308333')\n",
      "('Epoch: 23/2000', 'Iteration: 120', 'Validation loss: 2.348190', 'Validation acc: 0.278333')\n",
      "('Epoch: 24/2000', 'Iteration: 125', 'Train loss: 2.318761', 'Train acc: 0.280000')\n",
      "('Epoch: 25/2000', 'Iteration: 130', 'Train loss: 2.281254', 'Train acc: 0.296667')\n",
      "('Epoch: 25/2000', 'Iteration: 130', 'Validation loss: 2.301947', 'Validation acc: 0.286667')\n",
      "('Epoch: 26/2000', 'Iteration: 135', 'Train loss: 2.270857', 'Train acc: 0.293333')\n",
      "('Epoch: 27/2000', 'Iteration: 140', 'Train loss: 2.226188', 'Train acc: 0.343333')\n",
      "('Epoch: 27/2000', 'Iteration: 140', 'Validation loss: 2.252011', 'Validation acc: 0.305000')\n",
      "('Epoch: 28/2000', 'Iteration: 145', 'Train loss: 2.213523', 'Train acc: 0.320000')\n",
      "('Epoch: 29/2000', 'Iteration: 150', 'Train loss: 2.187047', 'Train acc: 0.320000')\n",
      "('Epoch: 29/2000', 'Iteration: 150', 'Validation loss: 2.199172', 'Validation acc: 0.320000')\n",
      "('Epoch: 30/2000', 'Iteration: 155', 'Train loss: 2.175672', 'Train acc: 0.330000')\n",
      "('Epoch: 31/2000', 'Iteration: 160', 'Train loss: 2.156789', 'Train acc: 0.301667')\n",
      "('Epoch: 31/2000', 'Iteration: 160', 'Validation loss: 2.143947', 'Validation acc: 0.345000')\n",
      "('Epoch: 32/2000', 'Iteration: 165', 'Train loss: 2.120957', 'Train acc: 0.331667')\n",
      "('Epoch: 33/2000', 'Iteration: 170', 'Train loss: 2.093995', 'Train acc: 0.350000')\n",
      "('Epoch: 33/2000', 'Iteration: 170', 'Validation loss: 2.087519', 'Validation acc: 0.361667')\n",
      "('Epoch: 34/2000', 'Iteration: 175', 'Train loss: 2.064713', 'Train acc: 0.376667')\n",
      "('Epoch: 35/2000', 'Iteration: 180', 'Train loss: 2.027138', 'Train acc: 0.375000')\n",
      "('Epoch: 35/2000', 'Iteration: 180', 'Validation loss: 2.029678', 'Validation acc: 0.381667')\n"
     ]
    }
   ],
   "source": [
    "validation_acc = []\n",
    "validation_loss = []\n",
    "\n",
    "train_acc = []\n",
    "train_loss = []\n",
    "\n",
    "with graph.as_default():\n",
    "    saver = tf.train.Saver()\n",
    "\n",
    "with tf.Session(graph=graph) as sess:\n",
    "    sess.run(tf.global_variables_initializer())\n",
    "    iteration = 1\n",
    "   \n",
    "    # Loop over epochs\n",
    "    for e in range(epochs):\n",
    "        \n",
    "        # Loop over batches\n",
    "        for x,y in get_batches(X_tr, y_tr, batch_size):\n",
    "            \n",
    "            # Feed dictionary\n",
    "            feed = {inputs_ : x, labels_ : y, keep_prob_ : 0.5, learning_rate_ : learning_rate}\n",
    "            \n",
    "            # Loss\n",
    "            loss, _ , acc = sess.run([cost, optimizer, accuracy], feed_dict = feed)\n",
    "            train_acc.append(acc)\n",
    "            train_loss.append(loss)\n",
    "            \n",
    "            # Print at each 5 iters\n",
    "            if (iteration % 5 == 0):\n",
    "                print(\"Epoch: {}/{}\".format(e, epochs),\n",
    "                      \"Iteration: {:d}\".format(iteration),\n",
    "                      \"Train loss: {:6f}\".format(loss),\n",
    "                      \"Train acc: {:.6f}\".format(acc))\n",
    "            \n",
    "            # Compute validation loss at every 10 iterations\n",
    "            if (iteration%10 == 0):                \n",
    "                val_acc_ = []\n",
    "                val_loss_ = []\n",
    "                \n",
    "                for x_v, y_v in get_batches(X_vld, y_vld, batch_size):\n",
    "                    # Feed\n",
    "                    feed = {inputs_ : x_v, labels_ : y_v, keep_prob_ : 1.0}  \n",
    "                    \n",
    "                    # Loss\n",
    "                    loss_v, acc_v = sess.run([cost, accuracy], feed_dict = feed)                    \n",
    "                    val_acc_.append(acc_v)\n",
    "                    val_loss_.append(loss_v)\n",
    "                \n",
    "                # Print info\n",
    "                print(\"Epoch: {}/{}\".format(e, epochs),\n",
    "                      \"Iteration: {:d}\".format(iteration),\n",
    "                      \"Validation loss: {:6f}\".format(np.mean(val_loss_)),\n",
    "                      \"Validation acc: {:.6f}\".format(np.mean(val_acc_)))\n",
    "                \n",
    "                # Store\n",
    "                validation_acc.append(np.mean(val_acc_))\n",
    "                validation_loss.append(np.mean(val_loss_))\n",
    "            \n",
    "            # Iterate \n",
    "            iteration += 1\n",
    "    \n",
    "    saver.save(sess,\"checkpoints-cnn/har.ckpt\")"
   ]
  },
  {
   "cell_type": "code",
   "execution_count": null,
   "metadata": {},
   "outputs": [],
   "source": [
    "# Plot training and test loss\n",
    "t = np.arange(iteration-1)\n",
    "\n",
    "plt.figure(figsize = (6,6))\n",
    "plt.plot(t, np.array(train_loss), 'r-', t[t % 10 == 0], np.array(validation_loss), 'b*')\n",
    "plt.xlabel(\"iteration\")\n",
    "plt.ylabel(\"Loss\")\n",
    "plt.legend(['train', 'validation'], loc='upper right')\n",
    "plt.show()"
   ]
  },
  {
   "cell_type": "code",
   "execution_count": null,
   "metadata": {
    "scrolled": true
   },
   "outputs": [],
   "source": [
    "# Plot Accuracies\n",
    "plt.figure(figsize = (6,6))\n",
    "\n",
    "plt.plot(t, np.array(train_acc), 'r-', t[t % 10 == 0], validation_acc, 'b*')\n",
    "plt.xlabel(\"iteration\")\n",
    "plt.ylabel(\"Accuray\")\n",
    "plt.legend(['train', 'validation'], loc='upper right')\n",
    "plt.show()"
   ]
  },
  {
   "cell_type": "markdown",
   "metadata": {},
   "source": [
    "## Evaluate on test set"
   ]
  },
  {
   "cell_type": "code",
   "execution_count": null,
   "metadata": {},
   "outputs": [],
   "source": [
    "test_acc = []\n",
    "with graph.as_default():\n",
    "    prediction=tf.argmax(logits,1)\n",
    "with tf.Session(graph=graph) as sess:\n",
    "    # Restore\n",
    "    saver.restore(sess, tf.train.latest_checkpoint('checkpoints-cnn'))\n",
    "    y_pred = []\n",
    "    y_true = []\n",
    "    for x_t, y_t in get_batches(X_test, y_test, batch_size):\n",
    "        feed = {inputs_: x_t,\n",
    "                labels_: y_t,\n",
    "                keep_prob_: 1}\n",
    "        batch_acc, batch_y_pred = sess.run([accuracy, prediction], feed_dict=feed)\n",
    "        y_pred.extend(batch_y_pred)\n",
    "        y_true.extend(np.where(r==1)[0][0] for r in y_t )\n",
    "        \n",
    "        test_acc.append(batch_acc)\n",
    "    print(\"Test accuracy: {:.6f}\".format(np.mean(test_acc)))\n",
    "#     print y_true\n",
    "#     print y_pred\n",
    "    sk_class_labels = [i for i in range(NUM_CLASS)]\n",
    "    cnf_matrix = confusion_matrix(y_true, y_pred)\n",
    "    print precision_recall_fscore_support(y_true, y_pred, average=None, labels=sk_class_labels)\n",
    "    print 'Accuracy:', accuracy_score(y_true, y_pred)\n",
    "    print 'F1 score:', f1_score(y_true, y_pred, average='micro')\n",
    "    print 'Recall:', recall_score(y_true, y_pred, average='micro')\n",
    "    print 'Precision:', precision_score(y_true, y_pred, average='micro')\n",
    "    print '\\n clasification report:\\n', classification_report(y_true,y_pred)\n",
    "    print '\\n confussion matrix:\\n',cnf_matrix\n",
    "    fig, ax = plt.subplots() \n",
    "    fig_size = plt.rcParams[\"figure.figsize\"]\n",
    "    fig_size[0] = 20\n",
    "    fig_size[1] = 10\n",
    "    plt.rcParams[\"figure.figsize\"] = fig_size\n",
    "    plt.figure()\n",
    "    plot_confusion_matrix(cnf_matrix, class_label_vn, title='Confusion matrix')\n",
    "\n",
    "    plt.show()"
   ]
  }
 ],
 "metadata": {
  "kernelspec": {
   "display_name": "Python 2",
   "language": "python",
   "name": "python2"
  },
  "language_info": {
   "codemirror_mode": {
    "name": "ipython",
    "version": 2
   },
   "file_extension": ".py",
   "mimetype": "text/x-python",
   "name": "python",
   "nbconvert_exporter": "python",
   "pygments_lexer": "ipython2",
   "version": "2.7.12"
  },
  "widgets": {
   "state": {},
   "version": "1.1.2"
  }
 },
 "nbformat": 4,
 "nbformat_minor": 2
}
