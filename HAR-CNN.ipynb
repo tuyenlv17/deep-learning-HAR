{
 "cells": [
  {
   "cell_type": "markdown",
   "metadata": {},
   "source": [
    "# HAR CNN training "
   ]
  },
  {
   "cell_type": "code",
   "execution_count": 346,
   "metadata": {},
   "outputs": [],
   "source": [
    "# Imports\n",
    "import numpy as np\n",
    "import os\n",
    "from sklearn.model_selection import train_test_split\n",
    "from sklearn.metrics import precision_recall_fscore_support\n",
    "from sklearn.metrics import precision_score, \\\n",
    "    recall_score, confusion_matrix, classification_report, \\\n",
    "    accuracy_score, f1_score\n",
    "import matplotlib.pyplot as plt\n",
    "%matplotlib inline"
   ]
  },
  {
   "cell_type": "code",
   "execution_count": 347,
   "metadata": {},
   "outputs": [],
   "source": [
    "%run utils/utilities.py"
   ]
  },
  {
   "cell_type": "code",
   "execution_count": 348,
   "metadata": {},
   "outputs": [],
   "source": [
    "class_label_vn = [u\"Cổ tay\",u\"Cổ chân\",u\"Bả vai\",u\"Xoay người\",u\"Xoay đầu gối\",u\"Đi bộ\",u\"Chạy\",u\"Đá bóng\",u\"Đạp xe\",u\"Đánh răng\",u\"Rửa tay\",u\"Lau bàn\",u\"Quét nhà\",u\"Nạo\",u\"Thái\",u\"Trộn\",u\"Lên cầu thang\",u\"Xuống cầu thang\"]"
   ]
  },
  {
   "cell_type": "markdown",
   "metadata": {},
   "source": [
    "## Prepare data"
   ]
  },
  {
   "cell_type": "code",
   "execution_count": 349,
   "metadata": {
    "scrolled": true
   },
   "outputs": [
    {
     "name": "stdout",
     "output_type": "stream",
     "text": [
      "x_sensor_acc\n",
      "x_watch_acc\n",
      "x_watch_gyr\n",
      "y_sensor_acc\n",
      "y_watch_acc\n",
      "y_watch_gyr\n",
      "z_sensor_acc\n",
      "z_watch_acc\n",
      "z_watch_gyr\n",
      "x_sensor_acc\n",
      "x_watch_acc\n",
      "x_watch_gyr\n",
      "y_sensor_acc\n",
      "y_watch_acc\n",
      "y_watch_gyr\n",
      "z_sensor_acc\n",
      "z_watch_acc\n",
      "z_watch_gyr\n"
     ]
    }
   ],
   "source": [
    "rootDatasetDir = \"./datasets/PTIT/normalized\"\n",
    "X_train, labels_train, list_ch_train = read_data(data_path=\"./datasets/PTIT/normalized\", split=\"train\") # train\n",
    "X_test, labels_test, list_ch_test = read_data(data_path=rootDatasetDir, split=\"test\") # test\n",
    "assert list_ch_train == list_ch_test, \"Mistmatch in channels!\""
   ]
  },
  {
   "cell_type": "code",
   "execution_count": 350,
   "metadata": {},
   "outputs": [],
   "source": [
    "# Normalize?\n",
    "X_train, X_test = standardize(X_train, X_test)"
   ]
  },
  {
   "cell_type": "markdown",
   "metadata": {},
   "source": [
    "Train/Validation Split"
   ]
  },
  {
   "cell_type": "code",
   "execution_count": 351,
   "metadata": {},
   "outputs": [],
   "source": [
    "X_tr, X_vld, lab_tr, lab_vld = train_test_split(X_train, labels_train, \n",
    "                                                stratify = labels_train, random_state = 123)"
   ]
  },
  {
   "cell_type": "markdown",
   "metadata": {},
   "source": [
    "One-hot encoding:"
   ]
  },
  {
   "cell_type": "code",
   "execution_count": 352,
   "metadata": {},
   "outputs": [],
   "source": [
    "y_tr = one_hot(lab_tr)\n",
    "y_vld = one_hot(lab_vld)\n",
    "y_test = one_hot(labels_test)"
   ]
  },
  {
   "cell_type": "code",
   "execution_count": 353,
   "metadata": {},
   "outputs": [],
   "source": [
    "# Imports\n",
    "import tensorflow as tf"
   ]
  },
  {
   "cell_type": "markdown",
   "metadata": {},
   "source": [
    "### Hyperparameters"
   ]
  },
  {
   "cell_type": "code",
   "execution_count": 354,
   "metadata": {},
   "outputs": [
    {
     "name": "stdout",
     "output_type": "stream",
     "text": [
      "n_channels 9\n"
     ]
    }
   ],
   "source": [
    "batch_size = 600       # Batch size\n",
    "seq_len = WINDOWN_SIZE          # Number of steps or window size\n",
    "learning_rate = 0.0001\n",
    "epochs = 2000\n",
    "\n",
    "n_classes = NUM_CLASS\n",
    "n_channels = NUM_CHANNEL\n",
    "print \"n_channels %d\" % n_channels"
   ]
  },
  {
   "cell_type": "markdown",
   "metadata": {},
   "source": [
    "### Construct the graph\n",
    "Placeholders"
   ]
  },
  {
   "cell_type": "code",
   "execution_count": 355,
   "metadata": {},
   "outputs": [],
   "source": [
    "graph = tf.Graph()\n",
    "\n",
    "# Construct placeholders\n",
    "with graph.as_default():\n",
    "    inputs_ = tf.placeholder(tf.float32, [None, seq_len, n_channels], name = 'inputs')\n",
    "    labels_ = tf.placeholder(tf.float32, [None, n_classes], name = 'labels')\n",
    "    keep_prob_ = tf.placeholder(tf.float32, name = 'keep')\n",
    "    learning_rate_ = tf.placeholder(tf.float32, name = 'learning_rate')"
   ]
  },
  {
   "cell_type": "markdown",
   "metadata": {},
   "source": [
    "Build Convolutional Layers"
   ]
  },
  {
   "cell_type": "code",
   "execution_count": 356,
   "metadata": {},
   "outputs": [],
   "source": [
    "with graph.as_default():\n",
    "    # (batch, 128, 9) --> (batch, 64, 18)\n",
    "    conv1 = tf.layers.conv1d(inputs=inputs_, filters=18, kernel_size=2, strides=1, \n",
    "                             padding='same', activation = tf.nn.relu)\n",
    "    max_pool_1 = tf.layers.max_pooling1d(inputs=conv1, pool_size=2, strides=2, padding='same')\n",
    "    \n",
    "    # (batch, 64, 18) --> (batch, 32, 36)\n",
    "    conv2 = tf.layers.conv1d(inputs=max_pool_1, filters=36, kernel_size=2, strides=1, \n",
    "                             padding='same', activation = tf.nn.relu)\n",
    "    max_pool_2 = tf.layers.max_pooling1d(inputs=conv2, pool_size=2, strides=2, padding='same')\n",
    "    \n",
    "    # (batch, 32, 36) --> (batch, 16, 72)\n",
    "    conv3 = tf.layers.conv1d(inputs=max_pool_2, filters=72, kernel_size=2, strides=1, \n",
    "                             padding='same', activation = tf.nn.relu)\n",
    "    max_pool_3 = tf.layers.max_pooling1d(inputs=conv3, pool_size=2, strides=2, padding='same')\n",
    "    \n",
    "    # (batch, 16, 72) --> (batch, 8, 144)\n",
    "    conv4 = tf.layers.conv1d(inputs=max_pool_3, filters=144, kernel_size=2, strides=1, \n",
    "                             padding='same', activation = tf.nn.relu)\n",
    "    max_pool_4 = tf.layers.max_pooling1d(inputs=conv4, pool_size=2, strides=2, padding='same')"
   ]
  },
  {
   "cell_type": "markdown",
   "metadata": {},
   "source": [
    "Now, flatten and pass to the classifier"
   ]
  },
  {
   "cell_type": "code",
   "execution_count": 357,
   "metadata": {},
   "outputs": [],
   "source": [
    "with graph.as_default():\n",
    "    # Flatten and add dropout\n",
    "    flat = tf.reshape(max_pool_4, (-1, 8*144))\n",
    "    flat = tf.nn.dropout(flat, keep_prob=keep_prob_)\n",
    "    \n",
    "    # Predictions\n",
    "    logits = tf.layers.dense(flat, n_classes)\n",
    "    \n",
    "    # Cost function and optimizer\n",
    "    cost = tf.reduce_mean(tf.nn.softmax_cross_entropy_with_logits(logits=logits, labels=labels_))\n",
    "    optimizer = tf.train.AdamOptimizer(learning_rate_).minimize(cost)\n",
    "    \n",
    "    # Accuracy\n",
    "    correct_pred = tf.equal(tf.argmax(logits, 1), tf.argmax(labels_, 1))\n",
    "    accuracy = tf.reduce_mean(tf.cast(correct_pred, tf.float32), name='accuracy')"
   ]
  },
  {
   "cell_type": "markdown",
   "metadata": {},
   "source": [
    "### Train the network"
   ]
  },
  {
   "cell_type": "code",
   "execution_count": null,
   "metadata": {},
   "outputs": [],
   "source": [
    "if (os.path.exists('checkpoints-cnn') == False):\n",
    "    !mkdir checkpoints-cnn"
   ]
  },
  {
   "cell_type": "code",
   "execution_count": null,
   "metadata": {},
   "outputs": [
    {
     "name": "stdout",
     "output_type": "stream",
     "text": [
      "('Epoch: 0/2000', 'Iteration: 5', 'Train loss: 2.979680', 'Train acc: 0.051667')\n",
      "('Epoch: 1/2000', 'Iteration: 10', 'Train loss: 2.923037', 'Train acc: 0.051667')\n",
      "('Epoch: 1/2000', 'Iteration: 10', 'Validation loss: 2.885003', 'Validation acc: 0.044167')\n",
      "('Epoch: 2/2000', 'Iteration: 15', 'Train loss: 2.880344', 'Train acc: 0.058333')\n",
      "('Epoch: 2/2000', 'Iteration: 20', 'Train loss: 2.861177', 'Train acc: 0.066667')\n",
      "('Epoch: 2/2000', 'Iteration: 20', 'Validation loss: 2.821214', 'Validation acc: 0.069167')\n",
      "('Epoch: 3/2000', 'Iteration: 25', 'Train loss: 2.834749', 'Train acc: 0.081667')\n",
      "('Epoch: 4/2000', 'Iteration: 30', 'Train loss: 2.797995', 'Train acc: 0.083333')\n",
      "('Epoch: 4/2000', 'Iteration: 30', 'Validation loss: 2.777937', 'Validation acc: 0.072500')\n",
      "('Epoch: 4/2000', 'Iteration: 35', 'Train loss: 2.846144', 'Train acc: 0.065000')\n",
      "('Epoch: 5/2000', 'Iteration: 40', 'Train loss: 2.783315', 'Train acc: 0.073333')\n",
      "('Epoch: 5/2000', 'Iteration: 40', 'Validation loss: 2.747710', 'Validation acc: 0.071667')\n",
      "('Epoch: 6/2000', 'Iteration: 45', 'Train loss: 2.734378', 'Train acc: 0.106667')\n",
      "('Epoch: 7/2000', 'Iteration: 50', 'Train loss: 2.733237', 'Train acc: 0.100000')\n",
      "('Epoch: 7/2000', 'Iteration: 50', 'Validation loss: 2.723842', 'Validation acc: 0.072500')\n",
      "('Epoch: 7/2000', 'Iteration: 55', 'Train loss: 2.734078', 'Train acc: 0.090000')\n",
      "('Epoch: 8/2000', 'Iteration: 60', 'Train loss: 2.741246', 'Train acc: 0.078333')\n",
      "('Epoch: 8/2000', 'Iteration: 60', 'Validation loss: 2.701499', 'Validation acc: 0.073333')\n",
      "('Epoch: 9/2000', 'Iteration: 65', 'Train loss: 2.726341', 'Train acc: 0.080000')\n",
      "('Epoch: 9/2000', 'Iteration: 70', 'Train loss: 2.762996', 'Train acc: 0.070000')\n",
      "('Epoch: 9/2000', 'Iteration: 70', 'Validation loss: 2.678258', 'Validation acc: 0.078333')\n",
      "('Epoch: 10/2000', 'Iteration: 75', 'Train loss: 2.681217', 'Train acc: 0.115000')\n",
      "('Epoch: 11/2000', 'Iteration: 80', 'Train loss: 2.663952', 'Train acc: 0.130000')\n",
      "('Epoch: 11/2000', 'Iteration: 80', 'Validation loss: 2.653150', 'Validation acc: 0.089167')\n",
      "('Epoch: 12/2000', 'Iteration: 85', 'Train loss: 2.643805', 'Train acc: 0.140000')\n",
      "('Epoch: 12/2000', 'Iteration: 90', 'Train loss: 2.649148', 'Train acc: 0.106667')\n",
      "('Epoch: 12/2000', 'Iteration: 90', 'Validation loss: 2.625299', 'Validation acc: 0.110000')\n",
      "('Epoch: 13/2000', 'Iteration: 95', 'Train loss: 2.632950', 'Train acc: 0.135000')\n",
      "('Epoch: 14/2000', 'Iteration: 100', 'Train loss: 2.608557', 'Train acc: 0.140000')\n",
      "('Epoch: 14/2000', 'Iteration: 100', 'Validation loss: 2.594060', 'Validation acc: 0.135833')\n",
      "('Epoch: 14/2000', 'Iteration: 105', 'Train loss: 2.648619', 'Train acc: 0.123333')\n",
      "('Epoch: 15/2000', 'Iteration: 110', 'Train loss: 2.576674', 'Train acc: 0.166667')\n",
      "('Epoch: 15/2000', 'Iteration: 110', 'Validation loss: 2.558605', 'Validation acc: 0.167500')\n",
      "('Epoch: 16/2000', 'Iteration: 115', 'Train loss: 2.509914', 'Train acc: 0.220000')\n",
      "('Epoch: 17/2000', 'Iteration: 120', 'Train loss: 2.524760', 'Train acc: 0.198333')\n",
      "('Epoch: 17/2000', 'Iteration: 120', 'Validation loss: 2.518809', 'Validation acc: 0.206667')\n",
      "('Epoch: 17/2000', 'Iteration: 125', 'Train loss: 2.529537', 'Train acc: 0.205000')\n",
      "('Epoch: 18/2000', 'Iteration: 130', 'Train loss: 2.504376', 'Train acc: 0.215000')\n",
      "('Epoch: 18/2000', 'Iteration: 130', 'Validation loss: 2.474135', 'Validation acc: 0.241667')\n",
      "('Epoch: 19/2000', 'Iteration: 135', 'Train loss: 2.473315', 'Train acc: 0.210000')\n",
      "('Epoch: 19/2000', 'Iteration: 140', 'Train loss: 2.499493', 'Train acc: 0.221667')\n",
      "('Epoch: 19/2000', 'Iteration: 140', 'Validation loss: 2.424469', 'Validation acc: 0.261667')\n",
      "('Epoch: 20/2000', 'Iteration: 145', 'Train loss: 2.397115', 'Train acc: 0.270000')\n",
      "('Epoch: 21/2000', 'Iteration: 150', 'Train loss: 2.388291', 'Train acc: 0.283333')\n",
      "('Epoch: 21/2000', 'Iteration: 150', 'Validation loss: 2.370910', 'Validation acc: 0.285000')\n",
      "('Epoch: 22/2000', 'Iteration: 155', 'Train loss: 2.355220', 'Train acc: 0.271667')\n",
      "('Epoch: 22/2000', 'Iteration: 160', 'Train loss: 2.326247', 'Train acc: 0.301667')\n",
      "('Epoch: 22/2000', 'Iteration: 160', 'Validation loss: 2.313452', 'Validation acc: 0.312500')\n",
      "('Epoch: 23/2000', 'Iteration: 165', 'Train loss: 2.326985', 'Train acc: 0.280000')\n",
      "('Epoch: 24/2000', 'Iteration: 170', 'Train loss: 2.291100', 'Train acc: 0.295000')\n",
      "('Epoch: 24/2000', 'Iteration: 170', 'Validation loss: 2.252484', 'Validation acc: 0.327500')\n",
      "('Epoch: 24/2000', 'Iteration: 175', 'Train loss: 2.299941', 'Train acc: 0.306667')\n",
      "('Epoch: 25/2000', 'Iteration: 180', 'Train loss: 2.194961', 'Train acc: 0.325000')\n",
      "('Epoch: 25/2000', 'Iteration: 180', 'Validation loss: 2.189922', 'Validation acc: 0.347500')\n",
      "('Epoch: 26/2000', 'Iteration: 185', 'Train loss: 2.169198', 'Train acc: 0.363333')\n",
      "('Epoch: 27/2000', 'Iteration: 190', 'Train loss: 2.150187', 'Train acc: 0.345000')\n",
      "('Epoch: 27/2000', 'Iteration: 190', 'Validation loss: 2.127472', 'Validation acc: 0.371667')\n",
      "('Epoch: 27/2000', 'Iteration: 195', 'Train loss: 2.100664', 'Train acc: 0.375000')\n",
      "('Epoch: 28/2000', 'Iteration: 200', 'Train loss: 2.117179', 'Train acc: 0.371667')\n",
      "('Epoch: 28/2000', 'Iteration: 200', 'Validation loss: 2.066143', 'Validation acc: 0.397500')\n",
      "('Epoch: 29/2000', 'Iteration: 205', 'Train loss: 2.115639', 'Train acc: 0.351667')\n",
      "('Epoch: 29/2000', 'Iteration: 210', 'Train loss: 2.092451', 'Train acc: 0.338333')\n",
      "('Epoch: 29/2000', 'Iteration: 210', 'Validation loss: 2.008872', 'Validation acc: 0.422500')\n",
      "('Epoch: 30/2000', 'Iteration: 215', 'Train loss: 2.020741', 'Train acc: 0.391667')\n",
      "('Epoch: 31/2000', 'Iteration: 220', 'Train loss: 1.990004', 'Train acc: 0.411667')\n",
      "('Epoch: 31/2000', 'Iteration: 220', 'Validation loss: 1.953325', 'Validation acc: 0.457500')\n",
      "('Epoch: 32/2000', 'Iteration: 225', 'Train loss: 1.946813', 'Train acc: 0.395000')\n",
      "('Epoch: 32/2000', 'Iteration: 230', 'Train loss: 1.947433', 'Train acc: 0.395000')\n",
      "('Epoch: 32/2000', 'Iteration: 230', 'Validation loss: 1.900629', 'Validation acc: 0.475000')\n",
      "('Epoch: 33/2000', 'Iteration: 235', 'Train loss: 1.954633', 'Train acc: 0.415000')\n",
      "('Epoch: 34/2000', 'Iteration: 240', 'Train loss: 1.942299', 'Train acc: 0.440000')\n",
      "('Epoch: 34/2000', 'Iteration: 240', 'Validation loss: 1.849083', 'Validation acc: 0.495833')\n",
      "('Epoch: 34/2000', 'Iteration: 245', 'Train loss: 1.922944', 'Train acc: 0.421667')\n",
      "('Epoch: 35/2000', 'Iteration: 250', 'Train loss: 1.850211', 'Train acc: 0.445000')\n",
      "('Epoch: 35/2000', 'Iteration: 250', 'Validation loss: 1.800285', 'Validation acc: 0.510000')\n",
      "('Epoch: 36/2000', 'Iteration: 255', 'Train loss: 1.844432', 'Train acc: 0.468333')\n",
      "('Epoch: 37/2000', 'Iteration: 260', 'Train loss: 1.833022', 'Train acc: 0.450000')\n",
      "('Epoch: 37/2000', 'Iteration: 260', 'Validation loss: 1.751545', 'Validation acc: 0.530833')\n",
      "('Epoch: 37/2000', 'Iteration: 265', 'Train loss: 1.733885', 'Train acc: 0.490000')\n",
      "('Epoch: 38/2000', 'Iteration: 270', 'Train loss: 1.798110', 'Train acc: 0.470000')\n",
      "('Epoch: 38/2000', 'Iteration: 270', 'Validation loss: 1.705348', 'Validation acc: 0.537500')\n",
      "('Epoch: 39/2000', 'Iteration: 275', 'Train loss: 1.765375', 'Train acc: 0.495000')\n",
      "('Epoch: 39/2000', 'Iteration: 280', 'Train loss: 1.780597', 'Train acc: 0.426667')\n",
      "('Epoch: 39/2000', 'Iteration: 280', 'Validation loss: 1.661934', 'Validation acc: 0.551667')\n",
      "('Epoch: 40/2000', 'Iteration: 285', 'Train loss: 1.687081', 'Train acc: 0.493333')\n",
      "('Epoch: 41/2000', 'Iteration: 290', 'Train loss: 1.680926', 'Train acc: 0.518333')\n",
      "('Epoch: 41/2000', 'Iteration: 290', 'Validation loss: 1.618579', 'Validation acc: 0.563333')\n",
      "('Epoch: 42/2000', 'Iteration: 295', 'Train loss: 1.647400', 'Train acc: 0.510000')\n",
      "('Epoch: 42/2000', 'Iteration: 300', 'Train loss: 1.580172', 'Train acc: 0.531667')\n",
      "('Epoch: 42/2000', 'Iteration: 300', 'Validation loss: 1.575665', 'Validation acc: 0.573333')\n",
      "('Epoch: 43/2000', 'Iteration: 305', 'Train loss: 1.634520', 'Train acc: 0.510000')\n",
      "('Epoch: 44/2000', 'Iteration: 310', 'Train loss: 1.607581', 'Train acc: 0.536667')\n",
      "('Epoch: 44/2000', 'Iteration: 310', 'Validation loss: 1.535986', 'Validation acc: 0.575000')\n",
      "('Epoch: 44/2000', 'Iteration: 315', 'Train loss: 1.626434', 'Train acc: 0.505000')\n",
      "('Epoch: 45/2000', 'Iteration: 320', 'Train loss: 1.565335', 'Train acc: 0.520000')\n",
      "('Epoch: 45/2000', 'Iteration: 320', 'Validation loss: 1.497369', 'Validation acc: 0.582500')\n"
     ]
    },
    {
     "name": "stdout",
     "output_type": "stream",
     "text": [
      "('Epoch: 46/2000', 'Iteration: 325', 'Train loss: 1.524888', 'Train acc: 0.566667')\n",
      "('Epoch: 47/2000', 'Iteration: 330', 'Train loss: 1.522302', 'Train acc: 0.533333')\n",
      "('Epoch: 47/2000', 'Iteration: 330', 'Validation loss: 1.459185', 'Validation acc: 0.591667')\n",
      "('Epoch: 47/2000', 'Iteration: 335', 'Train loss: 1.481022', 'Train acc: 0.543333')\n",
      "('Epoch: 48/2000', 'Iteration: 340', 'Train loss: 1.521062', 'Train acc: 0.545000')\n",
      "('Epoch: 48/2000', 'Iteration: 340', 'Validation loss: 1.423103', 'Validation acc: 0.602500')\n",
      "('Epoch: 49/2000', 'Iteration: 345', 'Train loss: 1.469379', 'Train acc: 0.563333')\n",
      "('Epoch: 49/2000', 'Iteration: 350', 'Train loss: 1.518259', 'Train acc: 0.505000')\n",
      "('Epoch: 49/2000', 'Iteration: 350', 'Validation loss: 1.387599', 'Validation acc: 0.605833')\n",
      "('Epoch: 50/2000', 'Iteration: 355', 'Train loss: 1.444993', 'Train acc: 0.545000')\n",
      "('Epoch: 51/2000', 'Iteration: 360', 'Train loss: 1.443632', 'Train acc: 0.565000')\n",
      "('Epoch: 51/2000', 'Iteration: 360', 'Validation loss: 1.354039', 'Validation acc: 0.610000')\n",
      "('Epoch: 52/2000', 'Iteration: 365', 'Train loss: 1.400549', 'Train acc: 0.581667')\n",
      "('Epoch: 52/2000', 'Iteration: 370', 'Train loss: 1.322962', 'Train acc: 0.608333')\n",
      "('Epoch: 52/2000', 'Iteration: 370', 'Validation loss: 1.322228', 'Validation acc: 0.612500')\n",
      "('Epoch: 53/2000', 'Iteration: 375', 'Train loss: 1.406764', 'Train acc: 0.573333')\n",
      "('Epoch: 54/2000', 'Iteration: 380', 'Train loss: 1.372136', 'Train acc: 0.571667')\n",
      "('Epoch: 54/2000', 'Iteration: 380', 'Validation loss: 1.291060', 'Validation acc: 0.620000')\n",
      "('Epoch: 54/2000', 'Iteration: 385', 'Train loss: 1.399477', 'Train acc: 0.575000')\n",
      "('Epoch: 55/2000', 'Iteration: 390', 'Train loss: 1.305721', 'Train acc: 0.608333')\n",
      "('Epoch: 55/2000', 'Iteration: 390', 'Validation loss: 1.261612', 'Validation acc: 0.625833')\n",
      "('Epoch: 56/2000', 'Iteration: 395', 'Train loss: 1.312782', 'Train acc: 0.601667')\n",
      "('Epoch: 57/2000', 'Iteration: 400', 'Train loss: 1.281662', 'Train acc: 0.593333')\n",
      "('Epoch: 57/2000', 'Iteration: 400', 'Validation loss: 1.232756', 'Validation acc: 0.630833')\n",
      "('Epoch: 57/2000', 'Iteration: 405', 'Train loss: 1.240008', 'Train acc: 0.610000')\n",
      "('Epoch: 58/2000', 'Iteration: 410', 'Train loss: 1.276620', 'Train acc: 0.586667')\n",
      "('Epoch: 58/2000', 'Iteration: 410', 'Validation loss: 1.206716', 'Validation acc: 0.640833')\n",
      "('Epoch: 59/2000', 'Iteration: 415', 'Train loss: 1.255385', 'Train acc: 0.615000')\n",
      "('Epoch: 59/2000', 'Iteration: 420', 'Train loss: 1.315973', 'Train acc: 0.598333')\n",
      "('Epoch: 59/2000', 'Iteration: 420', 'Validation loss: 1.181761', 'Validation acc: 0.647500')\n",
      "('Epoch: 60/2000', 'Iteration: 425', 'Train loss: 1.205872', 'Train acc: 0.606667')\n",
      "('Epoch: 61/2000', 'Iteration: 430', 'Train loss: 1.227657', 'Train acc: 0.636667')\n",
      "('Epoch: 61/2000', 'Iteration: 430', 'Validation loss: 1.157012', 'Validation acc: 0.652500')\n",
      "('Epoch: 62/2000', 'Iteration: 435', 'Train loss: 1.226030', 'Train acc: 0.611667')\n",
      "('Epoch: 62/2000', 'Iteration: 440', 'Train loss: 1.156024', 'Train acc: 0.648333')\n",
      "('Epoch: 62/2000', 'Iteration: 440', 'Validation loss: 1.135681', 'Validation acc: 0.661667')\n",
      "('Epoch: 63/2000', 'Iteration: 445', 'Train loss: 1.200065', 'Train acc: 0.606667')\n",
      "('Epoch: 64/2000', 'Iteration: 450', 'Train loss: 1.129552', 'Train acc: 0.656667')\n",
      "('Epoch: 64/2000', 'Iteration: 450', 'Validation loss: 1.112650', 'Validation acc: 0.663333')\n",
      "('Epoch: 64/2000', 'Iteration: 455', 'Train loss: 1.207596', 'Train acc: 0.610000')\n",
      "('Epoch: 65/2000', 'Iteration: 460', 'Train loss: 1.157117', 'Train acc: 0.620000')\n",
      "('Epoch: 65/2000', 'Iteration: 460', 'Validation loss: 1.091855', 'Validation acc: 0.669167')\n",
      "('Epoch: 66/2000', 'Iteration: 465', 'Train loss: 1.148520', 'Train acc: 0.666667')\n",
      "('Epoch: 67/2000', 'Iteration: 470', 'Train loss: 1.083232', 'Train acc: 0.666667')\n",
      "('Epoch: 67/2000', 'Iteration: 470', 'Validation loss: 1.072003', 'Validation acc: 0.671667')\n",
      "('Epoch: 67/2000', 'Iteration: 475', 'Train loss: 1.064631', 'Train acc: 0.670000')\n",
      "('Epoch: 68/2000', 'Iteration: 480', 'Train loss: 1.127212', 'Train acc: 0.646667')\n",
      "('Epoch: 68/2000', 'Iteration: 480', 'Validation loss: 1.053794', 'Validation acc: 0.672500')\n",
      "('Epoch: 69/2000', 'Iteration: 485', 'Train loss: 1.080988', 'Train acc: 0.646667')\n",
      "('Epoch: 69/2000', 'Iteration: 490', 'Train loss: 1.155406', 'Train acc: 0.635000')\n",
      "('Epoch: 69/2000', 'Iteration: 490', 'Validation loss: 1.035086', 'Validation acc: 0.679167')\n",
      "('Epoch: 70/2000', 'Iteration: 495', 'Train loss: 1.048852', 'Train acc: 0.670000')\n",
      "('Epoch: 71/2000', 'Iteration: 500', 'Train loss: 1.062777', 'Train acc: 0.668333')\n",
      "('Epoch: 71/2000', 'Iteration: 500', 'Validation loss: 1.017012', 'Validation acc: 0.682500')\n",
      "('Epoch: 72/2000', 'Iteration: 505', 'Train loss: 1.055476', 'Train acc: 0.651667')\n",
      "('Epoch: 72/2000', 'Iteration: 510', 'Train loss: 1.014975', 'Train acc: 0.690000')\n",
      "('Epoch: 72/2000', 'Iteration: 510', 'Validation loss: 1.000360', 'Validation acc: 0.692500')\n",
      "('Epoch: 73/2000', 'Iteration: 515', 'Train loss: 1.036961', 'Train acc: 0.655000')\n",
      "('Epoch: 74/2000', 'Iteration: 520', 'Train loss: 0.986235', 'Train acc: 0.681667')\n",
      "('Epoch: 74/2000', 'Iteration: 520', 'Validation loss: 0.985410', 'Validation acc: 0.693333')\n",
      "('Epoch: 74/2000', 'Iteration: 525', 'Train loss: 1.074324', 'Train acc: 0.671667')\n",
      "('Epoch: 75/2000', 'Iteration: 530', 'Train loss: 0.999321', 'Train acc: 0.703333')\n",
      "('Epoch: 75/2000', 'Iteration: 530', 'Validation loss: 0.970604', 'Validation acc: 0.697500')\n",
      "('Epoch: 76/2000', 'Iteration: 535', 'Train loss: 1.020372', 'Train acc: 0.676667')\n",
      "('Epoch: 77/2000', 'Iteration: 540', 'Train loss: 1.027919', 'Train acc: 0.656667')\n",
      "('Epoch: 77/2000', 'Iteration: 540', 'Validation loss: 0.957183', 'Validation acc: 0.702500')\n",
      "('Epoch: 77/2000', 'Iteration: 545', 'Train loss: 0.963342', 'Train acc: 0.681667')\n",
      "('Epoch: 78/2000', 'Iteration: 550', 'Train loss: 1.004066', 'Train acc: 0.681667')\n",
      "('Epoch: 78/2000', 'Iteration: 550', 'Validation loss: 0.942442', 'Validation acc: 0.703333')\n",
      "('Epoch: 79/2000', 'Iteration: 555', 'Train loss: 0.948156', 'Train acc: 0.701667')\n",
      "('Epoch: 79/2000', 'Iteration: 560', 'Train loss: 1.051379', 'Train acc: 0.675000')\n",
      "('Epoch: 79/2000', 'Iteration: 560', 'Validation loss: 0.930288', 'Validation acc: 0.715000')\n",
      "('Epoch: 80/2000', 'Iteration: 565', 'Train loss: 0.924642', 'Train acc: 0.713333')\n",
      "('Epoch: 81/2000', 'Iteration: 570', 'Train loss: 0.997655', 'Train acc: 0.695000')\n",
      "('Epoch: 81/2000', 'Iteration: 570', 'Validation loss: 0.919266', 'Validation acc: 0.708333')\n",
      "('Epoch: 82/2000', 'Iteration: 575', 'Train loss: 0.931767', 'Train acc: 0.696667')\n",
      "('Epoch: 82/2000', 'Iteration: 580', 'Train loss: 0.907825', 'Train acc: 0.715000')\n",
      "('Epoch: 82/2000', 'Iteration: 580', 'Validation loss: 0.907131', 'Validation acc: 0.716667')\n",
      "('Epoch: 83/2000', 'Iteration: 585', 'Train loss: 0.959083', 'Train acc: 0.686667')\n",
      "('Epoch: 84/2000', 'Iteration: 590', 'Train loss: 0.916655', 'Train acc: 0.683333')\n",
      "('Epoch: 84/2000', 'Iteration: 590', 'Validation loss: 0.895507', 'Validation acc: 0.715833')\n",
      "('Epoch: 84/2000', 'Iteration: 595', 'Train loss: 0.952630', 'Train acc: 0.696667')\n",
      "('Epoch: 85/2000', 'Iteration: 600', 'Train loss: 0.898623', 'Train acc: 0.723333')\n",
      "('Epoch: 85/2000', 'Iteration: 600', 'Validation loss: 0.884298', 'Validation acc: 0.717500')\n",
      "('Epoch: 86/2000', 'Iteration: 605', 'Train loss: 0.925851', 'Train acc: 0.713333')\n",
      "('Epoch: 87/2000', 'Iteration: 610', 'Train loss: 0.898335', 'Train acc: 0.698333')\n",
      "('Epoch: 87/2000', 'Iteration: 610', 'Validation loss: 0.874119', 'Validation acc: 0.721667')\n",
      "('Epoch: 87/2000', 'Iteration: 615', 'Train loss: 0.844048', 'Train acc: 0.721667')\n",
      "('Epoch: 88/2000', 'Iteration: 620', 'Train loss: 0.879551', 'Train acc: 0.721667')\n",
      "('Epoch: 88/2000', 'Iteration: 620', 'Validation loss: 0.864437', 'Validation acc: 0.725833')\n",
      "('Epoch: 89/2000', 'Iteration: 625', 'Train loss: 0.853138', 'Train acc: 0.731667')\n",
      "('Epoch: 89/2000', 'Iteration: 630', 'Train loss: 0.949940', 'Train acc: 0.705000')\n",
      "('Epoch: 89/2000', 'Iteration: 630', 'Validation loss: 0.854671', 'Validation acc: 0.728333')\n",
      "('Epoch: 90/2000', 'Iteration: 635', 'Train loss: 0.823181', 'Train acc: 0.743333')\n"
     ]
    },
    {
     "name": "stdout",
     "output_type": "stream",
     "text": [
      "('Epoch: 91/2000', 'Iteration: 640', 'Train loss: 0.927835', 'Train acc: 0.686667')\n",
      "('Epoch: 91/2000', 'Iteration: 640', 'Validation loss: 0.844784', 'Validation acc: 0.735833')\n",
      "('Epoch: 92/2000', 'Iteration: 645', 'Train loss: 0.851341', 'Train acc: 0.716667')\n",
      "('Epoch: 92/2000', 'Iteration: 650', 'Train loss: 0.833055', 'Train acc: 0.726667')\n",
      "('Epoch: 92/2000', 'Iteration: 650', 'Validation loss: 0.836814', 'Validation acc: 0.739167')\n",
      "('Epoch: 93/2000', 'Iteration: 655', 'Train loss: 0.866804', 'Train acc: 0.706667')\n",
      "('Epoch: 94/2000', 'Iteration: 660', 'Train loss: 0.814811', 'Train acc: 0.726667')\n",
      "('Epoch: 94/2000', 'Iteration: 660', 'Validation loss: 0.827493', 'Validation acc: 0.736667')\n",
      "('Epoch: 94/2000', 'Iteration: 665', 'Train loss: 0.881433', 'Train acc: 0.725000')\n",
      "('Epoch: 95/2000', 'Iteration: 670', 'Train loss: 0.813405', 'Train acc: 0.751667')\n",
      "('Epoch: 95/2000', 'Iteration: 670', 'Validation loss: 0.819728', 'Validation acc: 0.736667')\n",
      "('Epoch: 96/2000', 'Iteration: 675', 'Train loss: 0.888015', 'Train acc: 0.740000')\n",
      "('Epoch: 97/2000', 'Iteration: 680', 'Train loss: 0.796331', 'Train acc: 0.751667')\n",
      "('Epoch: 97/2000', 'Iteration: 680', 'Validation loss: 0.811666', 'Validation acc: 0.740833')\n",
      "('Epoch: 97/2000', 'Iteration: 685', 'Train loss: 0.773733', 'Train acc: 0.728333')\n",
      "('Epoch: 98/2000', 'Iteration: 690', 'Train loss: 0.804469', 'Train acc: 0.746667')\n",
      "('Epoch: 98/2000', 'Iteration: 690', 'Validation loss: 0.803553', 'Validation acc: 0.747500')\n",
      "('Epoch: 99/2000', 'Iteration: 695', 'Train loss: 0.756387', 'Train acc: 0.756667')\n",
      "('Epoch: 99/2000', 'Iteration: 700', 'Train loss: 0.859447', 'Train acc: 0.716667')\n",
      "('Epoch: 99/2000', 'Iteration: 700', 'Validation loss: 0.794477', 'Validation acc: 0.750833')\n",
      "('Epoch: 100/2000', 'Iteration: 705', 'Train loss: 0.789584', 'Train acc: 0.751667')\n",
      "('Epoch: 101/2000', 'Iteration: 710', 'Train loss: 0.863002', 'Train acc: 0.723333')\n",
      "('Epoch: 101/2000', 'Iteration: 710', 'Validation loss: 0.787853', 'Validation acc: 0.754167')\n",
      "('Epoch: 102/2000', 'Iteration: 715', 'Train loss: 0.804844', 'Train acc: 0.726667')\n",
      "('Epoch: 102/2000', 'Iteration: 720', 'Train loss: 0.770424', 'Train acc: 0.748333')\n",
      "('Epoch: 102/2000', 'Iteration: 720', 'Validation loss: 0.781646', 'Validation acc: 0.752500')\n",
      "('Epoch: 103/2000', 'Iteration: 725', 'Train loss: 0.762527', 'Train acc: 0.761667')\n"
     ]
    }
   ],
   "source": [
    "validation_acc = []\n",
    "validation_loss = []\n",
    "\n",
    "train_acc = []\n",
    "train_loss = []\n",
    "\n",
    "with graph.as_default():\n",
    "    saver = tf.train.Saver()\n",
    "\n",
    "with tf.Session(graph=graph) as sess:\n",
    "    sess.run(tf.global_variables_initializer())\n",
    "    iteration = 1\n",
    "   \n",
    "    # Loop over epochs\n",
    "    for e in range(epochs):\n",
    "        \n",
    "        # Loop over batches\n",
    "        for x,y in get_batches(X_tr, y_tr, batch_size):\n",
    "            \n",
    "            # Feed dictionary\n",
    "            feed = {inputs_ : x, labels_ : y, keep_prob_ : 0.5, learning_rate_ : learning_rate}\n",
    "            \n",
    "            # Loss\n",
    "            loss, _ , acc = sess.run([cost, optimizer, accuracy], feed_dict = feed)\n",
    "            train_acc.append(acc)\n",
    "            train_loss.append(loss)\n",
    "            \n",
    "            # Print at each 5 iters\n",
    "            if (iteration % 5 == 0):\n",
    "                print(\"Epoch: {}/{}\".format(e, epochs),\n",
    "                      \"Iteration: {:d}\".format(iteration),\n",
    "                      \"Train loss: {:6f}\".format(loss),\n",
    "                      \"Train acc: {:.6f}\".format(acc))\n",
    "            \n",
    "            # Compute validation loss at every 10 iterations\n",
    "            if (iteration%10 == 0):                \n",
    "                val_acc_ = []\n",
    "                val_loss_ = []\n",
    "                \n",
    "                for x_v, y_v in get_batches(X_vld, y_vld, batch_size):\n",
    "                    # Feed\n",
    "                    feed = {inputs_ : x_v, labels_ : y_v, keep_prob_ : 1.0}  \n",
    "                    \n",
    "                    # Loss\n",
    "                    loss_v, acc_v = sess.run([cost, accuracy], feed_dict = feed)                    \n",
    "                    val_acc_.append(acc_v)\n",
    "                    val_loss_.append(loss_v)\n",
    "                \n",
    "                # Print info\n",
    "                print(\"Epoch: {}/{}\".format(e, epochs),\n",
    "                      \"Iteration: {:d}\".format(iteration),\n",
    "                      \"Validation loss: {:6f}\".format(np.mean(val_loss_)),\n",
    "                      \"Validation acc: {:.6f}\".format(np.mean(val_acc_)))\n",
    "                \n",
    "                # Store\n",
    "                validation_acc.append(np.mean(val_acc_))\n",
    "                validation_loss.append(np.mean(val_loss_))\n",
    "            \n",
    "            # Iterate \n",
    "            iteration += 1\n",
    "    \n",
    "    saver.save(sess,\"checkpoints-cnn/har.ckpt\")"
   ]
  },
  {
   "cell_type": "code",
   "execution_count": null,
   "metadata": {},
   "outputs": [],
   "source": [
    "# Plot training and test loss\n",
    "t = np.arange(iteration-1)\n",
    "\n",
    "plt.figure(figsize = (6,6))\n",
    "plt.plot(t, np.array(train_loss), 'r-', t[t % 10 == 0], np.array(validation_loss), 'b*')\n",
    "plt.xlabel(\"iteration\")\n",
    "plt.ylabel(\"Loss\")\n",
    "plt.legend(['train', 'validation'], loc='upper right')\n",
    "plt.show()"
   ]
  },
  {
   "cell_type": "code",
   "execution_count": null,
   "metadata": {},
   "outputs": [],
   "source": [
    "# Plot Accuracies\n",
    "plt.figure(figsize = (6,6))\n",
    "\n",
    "plt.plot(t, np.array(train_acc), 'r-', t[t % 10 == 0], validation_acc, 'b*')\n",
    "plt.xlabel(\"iteration\")\n",
    "plt.ylabel(\"Accuray\")\n",
    "plt.legend(['train', 'validation'], loc='upper right')\n",
    "plt.show()"
   ]
  },
  {
   "cell_type": "markdown",
   "metadata": {},
   "source": [
    "## Evaluate on test set"
   ]
  },
  {
   "cell_type": "code",
   "execution_count": null,
   "metadata": {},
   "outputs": [],
   "source": [
    "test_acc = []\n",
    "with graph.as_default():\n",
    "    prediction=tf.argmax(logits,1)\n",
    "with tf.Session(graph=graph) as sess:\n",
    "    # Restore\n",
    "    saver.restore(sess, tf.train.latest_checkpoint('checkpoints-cnn'))\n",
    "    y_pred = []\n",
    "    y_true = []\n",
    "    for x_t, y_t in get_batches(X_test, y_test, batch_size):\n",
    "        feed = {inputs_: x_t,\n",
    "                labels_: y_t,\n",
    "                keep_prob_: 1}\n",
    "        batch_acc, batch_y_pred = sess.run([accuracy, prediction], feed_dict=feed)\n",
    "        y_pred.extend(batch_y_pred)\n",
    "        y_true.extend(np.where(r==1)[0][0] for r in y_t )\n",
    "        \n",
    "        test_acc.append(batch_acc)\n",
    "    print(\"Test accuracy: {:.6f}\".format(np.mean(test_acc)))\n",
    "#     print y_true\n",
    "#     print y_pred\n",
    "    sk_class_labels = [i for i in range(NUM_CLASS)]\n",
    "    cnf_matrix = confusion_matrix(y_true, y_pred)\n",
    "    print precision_recall_fscore_support(y_true, y_pred, average=None, labels=sk_class_labels)\n",
    "    print 'Accuracy:', accuracy_score(y_true, y_pred)\n",
    "    print 'F1 score:', f1_score(y_true, y_pred, average='micro')\n",
    "    print 'Recall:', recall_score(y_true, y_pred, average='micro')\n",
    "    print 'Precision:', precision_score(y_true, y_pred, average='micro')\n",
    "    print '\\n clasification report:\\n', classification_report(y_true,y_pred)\n",
    "    print '\\n confussion matrix:\\n',cnf_matrix\n",
    "    fig, ax = plt.subplots() \n",
    "    fig_size = plt.rcParams[\"figure.figsize\"]\n",
    "    fig_size[0] = 20\n",
    "    fig_size[1] = 10\n",
    "    plt.rcParams[\"figure.figsize\"] = fig_size\n",
    "    plt.figure()\n",
    "    plot_confusion_matrix(cnf_matrix, class_label_vn, title='Confusion matrix')\n",
    "\n",
    "    plt.show()"
   ]
  }
 ],
 "metadata": {
  "kernelspec": {
   "display_name": "Python 2",
   "language": "python",
   "name": "python2"
  },
  "language_info": {
   "codemirror_mode": {
    "name": "ipython",
    "version": 2
   },
   "file_extension": ".py",
   "mimetype": "text/x-python",
   "name": "python",
   "nbconvert_exporter": "python",
   "pygments_lexer": "ipython2",
   "version": "2.7.12"
  },
  "widgets": {
   "state": {},
   "version": "1.1.2"
  }
 },
 "nbformat": 4,
 "nbformat_minor": 2
}
